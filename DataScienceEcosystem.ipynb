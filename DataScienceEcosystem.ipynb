{
 "cells": [
  {
   "cell_type": "markdown",
   "id": "0108d138",
   "metadata": {},
   "source": [
    "# DataScience Tools and Ecosystem"
   ]
  },
  {
   "cell_type": "markdown",
   "id": "0a6413b5",
   "metadata": {},
   "source": [
    "in this notebook, data science tools and ecosystem are summarized"
   ]
  },
  {
   "cell_type": "markdown",
   "id": "7f7db433",
   "metadata": {},
   "source": [
    "# Data Science Languages\n"
   ]
  },
  {
   "cell_type": "markdown",
   "id": "c47b2c15",
   "metadata": {},
   "source": [
    "- Python\n",
    "- R\n",
    "- Julia\n",
    "- SQL\n",
    "- Scala\n",
    "- MATLAB"
   ]
  },
  {
   "cell_type": "markdown",
   "id": "ef9db5cd",
   "metadata": {},
   "source": [
    "### Data Science Libraries\n"
   ]
  },
  {
   "cell_type": "markdown",
   "id": "5352d57d",
   "metadata": {},
   "source": [
    "  - NumPy\n",
    "  - pandas\n",
    "  - Matplotlib\n",
    "  - Seaborn\n",
    "  - scikit-learn\n",
    "  - TensorFlow\n",
    "  - PyTorch"
   ]
  },
  {
   "cell_type": "markdown",
   "id": "6c68306b",
   "metadata": {},
   "source": [
    "### Data Science Tools\n",
    "\n",
    "| Category       | Tool                 | Description                                |\n",
    "|----------------|----------------------|--------------------------------------------|\n",
    "| Programming    | Python               | General-purpose programming language       |\n",
    "|                | R                    | Statistical computing and graphics         |\n",
    "|                | Julia                | High-performance technical computing       |\n",
    "|                | SQL                  | Query language for relational databases   |\n",
    "| Data Analysis  | NumPy                | Numerical computing in Python              |\n",
    "|                | pandas               | Data manipulation and analysis in Python  |\n",
    "|                | dplyr                | Data manipulation in R                    |\n",
    "|                | DataFrames (Julia)   | Data manipulation in Julia                |\n",
    "| Data Visualization | Matplotlib       | 2D plotting in Python                     |\n",
    "|                | ggplot2 (R)           | Grammar of graphics in R                  |\n",
    "| Machine Learning | scikit-learn      | Machine learning in Python                |\n",
    "|                | caret (R)             | Classification and regression training   |\n",
    "|                | TensorFlow            | Open-source machine learning framework   |\n",
    "|                | PyTorch              | Deep learning framework in Python         |\n",
    "|                | Flux (Julia)          | Machine learning in Julia                |\n",
    "| Big Data       | Hadoop               | Distributed storage and processing       |\n",
    "|                | Spark                | Distributed data processing              |\n",
    "|                | Hive                 | Data warehousing and SQL-like queries    |\n",
    "| Cloud Computing| AWS                  | Amazon Web Services                      |\n",
    "|                | Azure                | Microsoft's cloud computing platform    |\n",
    "|                | GCP                  | Google Cloud Platform                    |\n"
   ]
  },
  {
   "cell_type": "markdown",
   "id": "dd827c5c",
   "metadata": {},
   "source": [
    "### ### Arithmetic Expression Examples\n"
   ]
  },
  {
   "cell_type": "markdown",
   "id": "b96e4a93",
   "metadata": {},
   "source": [
    "below are a few examples of evaluating arithmetic experssions in python"
   ]
  },
  {
   "cell_type": "markdown",
   "id": "6f72803b",
   "metadata": {},
   "source": [
    "1. **Addition:**\n",
    "   The sum of two numbers is calculated using the `+` operator.\n",
    "   \n",
    "   Example:\n",
    "5 + 3 = 8"
   ]
  },
  {
   "cell_type": "markdown",
   "id": "436e5106",
   "metadata": {},
   "source": [
    "\n",
    "2. **Subtraction:**\n",
    "The difference between two numbers is calculated using the `-` operator.\n",
    "\n",
    "    Example:\n",
    "    5-3=2"
   ]
  },
  {
   "cell_type": "markdown",
   "id": "623697a4",
   "metadata": {},
   "source": [
    "\n",
    "3. **Multiplication:**\n",
    "The product of two numbers is calculated using the `*` operator.\n",
    "\n",
    "    Example:\n",
    "    5*2=10"
   ]
  },
  {
   "cell_type": "markdown",
   "id": "31c3b1dd",
   "metadata": {},
   "source": [
    "\n",
    "4. **Division:**\n",
    "The quotient of dividing one number by another is calculated using the `/` operator.\n",
    "\n",
    "    Example:\n",
    "    15 / 3 = 5\n",
    "\n"
   ]
  },
  {
   "cell_type": "code",
   "execution_count": 6,
   "id": "885d34ae",
   "metadata": {},
   "outputs": [
    {
     "data": {
      "text/plain": [
       "17"
      ]
     },
     "execution_count": 6,
     "metadata": {},
     "output_type": "execute_result"
    }
   ],
   "source": [
    "#this a simple a rithmetic expression to multiply then add integers\n",
    "(3*4)+5"
   ]
  },
  {
   "cell_type": "code",
   "execution_count": 7,
   "id": "f9bdcbd4",
   "metadata": {},
   "outputs": [
    {
     "data": {
      "text/plain": [
       "3.3333333333333335"
      ]
     },
     "execution_count": 7,
     "metadata": {},
     "output_type": "execute_result"
    }
   ],
   "source": [
    "#this a simple convert 200 minutes to hours by diviing by 60\n",
    "200/60"
   ]
  },
  {
   "cell_type": "markdown",
   "id": "064e3a8b",
   "metadata": {},
   "source": [
    "### Objectives\n",
    "\n",
    "In this notebook, we covered several key objectives that provide a foundation for understanding and exploring the field of Data Science. Some of the key takeaways include:\n",
    "\n",
    "- **Knowing popular languages for Data Science:**\n",
    "  We introduced and discussed widely used programming languages such as Python, R, and Julia that play a crucial role in Data Science workflows.\n",
    "\n",
    "- **Explore essential Data Science libraries:**\n",
    "  We delved into essential libraries like NumPy, pandas, Matplotlib, scikit-learn, and more, which are fundamental tools for data manipulation, analysis, and visualization.\n",
    "\n",
    "- **Understand basic expressions:**\n",
    "  We learned about basic arithmetic operations like addition, subtraction, multiplication, and division, along with the importance of parentheses to control the order of operations.\n",
    "\n",
    "- **Knowing Machine Learning frameworks:**\n",
    "  We touched upon popular Machine Learning frameworks like TensorFlow and PyTorch, exploring their significance in building and training machine learning models.\n",
    "\n"
   ]
  },
  {
   "cell_type": "markdown",
   "id": "80eb4984",
   "metadata": {},
   "source": [
    "## Author\n",
    "coursera"
   ]
  },
  {
   "cell_type": "code",
   "execution_count": null,
   "id": "8b76c333",
   "metadata": {},
   "outputs": [],
   "source": []
  }
 ],
 "metadata": {
  "kernelspec": {
   "display_name": "Python 3 (ipykernel)",
   "language": "python",
   "name": "python3"
  },
  "language_info": {
   "codemirror_mode": {
    "name": "ipython",
    "version": 3
   },
   "file_extension": ".py",
   "mimetype": "text/x-python",
   "name": "python",
   "nbconvert_exporter": "python",
   "pygments_lexer": "ipython3",
   "version": "3.9.7"
  }
 },
 "nbformat": 4,
 "nbformat_minor": 5
}
